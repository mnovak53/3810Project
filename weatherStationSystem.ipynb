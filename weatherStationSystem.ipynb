{
 "cells": [
  {
   "cell_type": "code",
   "execution_count": 5,
   "id": "2e84f826-5985-4e01-9be3-136d1b6f81af",
   "metadata": {},
   "outputs": [
    {
     "ename": "ModuleNotFoundError",
     "evalue": "No module named 'dataManagement'",
     "output_type": "error",
     "traceback": [
      "\u001b[1;31m---------------------------------------------------------------------------\u001b[0m",
      "\u001b[1;31mModuleNotFoundError\u001b[0m                       Traceback (most recent call last)",
      "Cell \u001b[1;32mIn[5], line 5\u001b[0m\n\u001b[0;32m      3\u001b[0m \u001b[38;5;28;01mimport\u001b[39;00m \u001b[38;5;21;01mdatetime\u001b[39;00m\n\u001b[0;32m      4\u001b[0m \u001b[38;5;28;01mimport\u001b[39;00m \u001b[38;5;21;01mpandas\u001b[39;00m \u001b[38;5;28;01mas\u001b[39;00m \u001b[38;5;21;01mpd\u001b[39;00m\n\u001b[1;32m----> 5\u001b[0m \u001b[38;5;28;01mimport\u001b[39;00m \u001b[38;5;21;01mdataManagement\u001b[39;00m \u001b[38;5;28;01mas\u001b[39;00m \u001b[38;5;21;01mdm\u001b[39;00m\n\u001b[0;32m      8\u001b[0m \u001b[38;5;66;03m#Get weather station data to store\u001b[39;00m\n\u001b[0;32m      9\u001b[0m \u001b[38;5;66;03m# Get API\u001b[39;00m\n\u001b[0;32m     10\u001b[0m API_KEY \u001b[38;5;241m=\u001b[39m \u001b[38;5;124m\"\u001b[39m\u001b[38;5;124mcaca91e89e82e1d63652efb072838642\u001b[39m\u001b[38;5;124m\"\u001b[39m \n",
      "\u001b[1;31mModuleNotFoundError\u001b[0m: No module named 'dataManagement'"
     ]
    }
   ],
   "source": [
    "import requests\n",
    "import sqlite3\n",
    "import datetime\n",
    "import pandas as pd\n",
    "import dataManagement as dm\n",
    "\n",
    "\n",
    "#Get weather station data to store\n",
    "# Get API\n",
    "API_KEY = \"API_Key\" \n",
    "CITIES = [\"New York\", \"Los Angeles\", \"Chicago\", \"London\", \"Tokyo\"]  \n",
    "DB_NAME = \"weather_archive.db\"\n",
    "\n",
    "# Connect to SQL database\n",
    "conn = sqlite3.connect(DB_NAME)\n",
    "cursor = conn.cursor()\n",
    "\n",
    "# Create table\n",
    "cursor.execute(\"\"\"\n",
    "CREATE TABLE IF NOT EXISTS weather_data (\n",
    "    id INTEGER PRIMARY KEY AUTOINCREMENT,\n",
    "    city TEXT,\n",
    "    temperature REAL,\n",
    "    humidity INTEGER,\n",
    "    pressure INTEGER,\n",
    "    timestamp TEXT\n",
    ")\n",
    "\"\"\")\n",
    "conn.commit()\n",
    "\n",
    "\n",
    "# Loop through cities and get data\n",
    "url = f\"http://api.openweathermap.org/data/2.5/weather?q={city}&appid={API_KEY}&units=metric\"\n",
    "response = requests.get(url)\n",
    "if response.status_code == 200:\n",
    "    weather_data = response.json()\n",
    "    \n",
    "    for city in CITIES:\n",
    "        dm.fetch_and_store_weather(city, weather_data)\n",
    "\n",
    "else:\n",
    "        print(f\"Error {response.status_code}: {response.json()}\")\n",
    "\n",
    "# Close Database Connection\n",
    "conn.close()\n",
    "print(\"\\n Weather data successfully archived\")\n"
   ]
  },
  {
   "cell_type": "code",
   "execution_count": null,
   "id": "11c391a1-091a-4fc2-835f-c06c97c13b43",
   "metadata": {},
   "outputs": [],
   "source": []
  },
  {
   "cell_type": "code",
   "execution_count": null,
   "id": "e7bf4496-6add-4aa8-b442-8c75e5a52358",
   "metadata": {},
   "outputs": [],
   "source": []
  }
 ],
 "metadata": {
  "kernelspec": {
   "display_name": "Python 3 (ipykernel)",
   "language": "python",
   "name": "python3"
  },
  "language_info": {
   "codemirror_mode": {
    "name": "ipython",
    "version": 3
   },
   "file_extension": ".py",
   "mimetype": "text/x-python",
   "name": "python",
   "nbconvert_exporter": "python",
   "pygments_lexer": "ipython3",
   "version": "3.12.3"
  }
 },
 "nbformat": 4,
 "nbformat_minor": 5
}
