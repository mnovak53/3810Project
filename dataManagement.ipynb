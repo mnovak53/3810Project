{
 "cells": [
  {
   "cell_type": "code",
   "execution_count": 9,
   "id": "10e3cc3f-2b61-4a6c-b4e5-cec92d89ee16",
   "metadata": {},
   "outputs": [],
   "source": [
    "import requests\n",
    "import sqlite3\n",
    "import datetime\n",
    "import pandas\n",
    "\n",
    "# Get and store data in SQL\n",
    "def fetch_and_store_weather(city, weather_data):\n",
    "    \n",
    "        # Get needed data\n",
    "        temperature = weather_data['main']['temp']\n",
    "        humidity = weather_data['main']['humidity']\n",
    "        pressure = weather_data['main']['pressure']\n",
    "        timestamp = datetime.datetime.now().strftime(\"%Y-%m-%d %H:%M:%S\")\n",
    "\n",
    "        # Add data to database\n",
    "        cursor.execute(\"INSERT INTO weather_data (city, temperature, humidity, pressure, timestamp) VALUES (?, ?, ?, ?, ?)\",\n",
    "                       (city, temperature, humidity, pressure, timestamp))\n",
    "        conn.commit()\n",
    "        print(f\" Data stored for {city} at {timestamp}\")\n"
   ]
  },
  {
   "cell_type": "code",
   "execution_count": null,
   "id": "1f619330-f7c6-4b46-a15a-f5738c794cdb",
   "metadata": {},
   "outputs": [],
   "source": []
  }
 ],
 "metadata": {
  "kernelspec": {
   "display_name": "Python 3 (ipykernel)",
   "language": "python",
   "name": "python3"
  },
  "language_info": {
   "codemirror_mode": {
    "name": "ipython",
    "version": 3
   },
   "file_extension": ".py",
   "mimetype": "text/x-python",
   "name": "python",
   "nbconvert_exporter": "python",
   "pygments_lexer": "ipython3",
   "version": "3.12.3"
  }
 },
 "nbformat": 4,
 "nbformat_minor": 5
}
